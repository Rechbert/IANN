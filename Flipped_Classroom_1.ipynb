{
  "nbformat": 4,
  "nbformat_minor": 0,
  "metadata": {
    "colab": {
      "provenance": [],
      "authorship_tag": "ABX9TyN9nxDRqrORWgFT8hd4J6Xo",
      "include_colab_link": true
    },
    "kernelspec": {
      "name": "python3",
      "display_name": "Python 3"
    },
    "language_info": {
      "name": "python"
    }
  },
  "cells": [
    {
      "cell_type": "markdown",
      "metadata": {
        "id": "view-in-github",
        "colab_type": "text"
      },
      "source": [
        "<a href=\"https://colab.research.google.com/github/Rechbert/IANN/blob/main/Flipped_Classroom_1.ipynb\" target=\"_parent\"><img src=\"https://colab.research.google.com/assets/colab-badge.svg\" alt=\"Open In Colab\"/></a>"
      ]
    },
    {
      "cell_type": "code",
      "execution_count": 1,
      "metadata": {
        "id": "7YmX_9w-zRDg"
      },
      "outputs": [],
      "source": [
        "import numpy as np\n",
        "\n",
        "def sigmoid(x):\n",
        "  return 1/(1 + np.exp(-x))\n",
        "\n",
        "class Perceptron():\n",
        "\n",
        "  def _init_(self, number_inputs, use_bias = True):\n",
        "    self.number_inputs = number_inputs\n",
        "    self.use_bias = use_bias\n",
        "    self.weights = [0.] * self.number_inputs\n",
        "    self.bias = 0.\n",
        "\n",
        "  def set_weights(self, weights, bias):\n",
        "    self.weights = weights\n",
        "    self.bias = bias\n",
        "    return None\n",
        "\n",
        "\n",
        "  def call(self, x):\n",
        "    y = 0.\n",
        "    for i, w in zip(x, self.weights):\n",
        "      y = y + i*w\n",
        "    if self.use_bias:\n",
        "      y = y + self.bias\n",
        "    y = sigmoid(y)\n",
        "    return y\n",
        "\n",
        "class MLP_layer(self):\n",
        "  def __init__(self, num_inputs, num_units):\n",
        "    self.num_inputs = num_inputs\n",
        "    self.num_units = num_units\n",
        "    self.weights = np.zeros((self.num_units, self.num_inputs))\n",
        "    self.bias = np.zeros((self.num_units,))\n",
        "\n",
        "  def set_weights(self, weights, bias):\n",
        "    self.weights = weights\n",
        "    self.bias = bias\n",
        "\n",
        "  def call(self, x):\n",
        "    #x.shape : (num_inputs, 1)\n",
        "    pre_activations = self.weights @ x\n",
        "    activations = sigmoid(pre_activations)\n",
        "    return activations\n"
      ]
    }
  ]
}